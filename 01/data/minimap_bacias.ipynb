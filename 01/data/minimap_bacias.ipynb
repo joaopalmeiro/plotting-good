{
 "cells": [
  {
   "cell_type": "code",
   "execution_count": null,
   "id": "10d5fa9a-5e52-4e2f-9bb1-ceb4a6d8d57f",
   "metadata": {},
   "outputs": [],
   "source": [
    "import geopandas\n",
    "import matplotlib.pyplot as plt\n",
    "import numpy as np\n",
    "import pyproj"
   ]
  },
  {
   "cell_type": "markdown",
   "id": "f4924a4c-02f9-48c0-a7ec-b3c404abd55c",
   "metadata": {},
   "source": [
    "- https://epsg.io/3763\n",
    "- https://snirh.apambiente.pt/index.php?idMain=1&idItem=1.3\n",
    "- https://geopandas.org/en/stable/docs/user_guide/projections.html\n",
    "- https://geopandas.org/en/stable/docs/user_guide/aggregation_with_dissolve.html\n",
    "- https://mapshaper.org/"
   ]
  },
  {
   "cell_type": "code",
   "execution_count": null,
   "id": "937722f5-e797-41e9-9e8c-c94b29d06f94",
   "metadata": {},
   "outputs": [],
   "source": [
    "MAP: str = \"raw/bacias_snirh.zip\""
   ]
  },
  {
   "cell_type": "code",
   "execution_count": null,
   "id": "4024bd62-22a0-42c1-89ae-1eb63ed23f18",
   "metadata": {},
   "outputs": [],
   "source": [
    "gdf = geopandas.read_file(MAP)"
   ]
  },
  {
   "cell_type": "code",
   "execution_count": null,
   "id": "a5355d53-6729-4a37-b7a0-5c8c0e0466e5",
   "metadata": {},
   "outputs": [],
   "source": [
    "gdf.head()"
   ]
  },
  {
   "cell_type": "code",
   "execution_count": null,
   "id": "6fa24768-4461-4d22-b0d6-6785e92029ff",
   "metadata": {},
   "outputs": [],
   "source": [
    "gdf.shape"
   ]
  },
  {
   "cell_type": "code",
   "execution_count": null,
   "id": "4d34b7a6-c775-4e5a-b688-030ed0ed49c8",
   "metadata": {},
   "outputs": [],
   "source": [
    "# gdf"
   ]
  },
  {
   "cell_type": "code",
   "execution_count": null,
   "id": "3f07acef-211b-4ea7-85b0-d9ce3da40782",
   "metadata": {},
   "outputs": [],
   "source": [
    "gdf.crs"
   ]
  },
  {
   "cell_type": "code",
   "execution_count": null,
   "id": "2bba11dd-ad7f-4e83-84be-ebda9825a4a6",
   "metadata": {},
   "outputs": [],
   "source": [
    "gdf.plot(figsize=(15, 10))"
   ]
  },
  {
   "cell_type": "code",
   "execution_count": null,
   "id": "536144c5-f086-4c44-88a9-1ade768ede95",
   "metadata": {},
   "outputs": [],
   "source": [
    "gdf.plot(color=\"black\")\n",
    "\n",
    "plt.axis(\"off\")\n",
    "plt.margins(0)\n",
    "\n",
    "plt.savefig(\n",
    "    \"./minimap_all_sado.svg\",\n",
    "    format=\"svg\",\n",
    "    transparent=True,\n",
    "    bbox_inches=\"tight\",\n",
    "    pad_inches=0,\n",
    "    # `cairo` simplifies the SVG shape.\n",
    "    # backend=\"cairo\",\n",
    "    backend=\"svg\",\n",
    ")\n",
    "\n",
    "plt.show()"
   ]
  },
  {
   "cell_type": "code",
   "execution_count": null,
   "id": "cf5ce310-4220-4729-a193-aa623e0bcfb1",
   "metadata": {},
   "outputs": [],
   "source": [
    "OUT_EPSG: int = 4326\n",
    "\n",
    "gdf = gdf.to_crs(epsg=OUT_EPSG)"
   ]
  },
  {
   "cell_type": "code",
   "execution_count": null,
   "id": "c677b676-2b47-436c-a4c2-f6dccf4b9a0d",
   "metadata": {},
   "outputs": [],
   "source": [
    "gdf.crs"
   ]
  },
  {
   "cell_type": "code",
   "execution_count": null,
   "id": "e21bfe66-d352-4e4f-9d99-b97ae5f85057",
   "metadata": {},
   "outputs": [],
   "source": [
    "gdf.plot(figsize=(15, 10))"
   ]
  },
  {
   "cell_type": "code",
   "execution_count": null,
   "id": "689cbeab-7df5-4994-9799-2bfb1a7e55be",
   "metadata": {},
   "outputs": [],
   "source": [
    "gdf.head()"
   ]
  },
  {
   "cell_type": "code",
   "execution_count": null,
   "id": "f3398273-f2bc-4ce2-9d01-40e26b30f5db",
   "metadata": {},
   "outputs": [],
   "source": [
    "bacia: str = \"Sado\"\n",
    "\n",
    "gdf[\"dissolve\"] = np.where(\n",
    "    gdf[\"nome\"] != bacia,\n",
    "    \"Y\",\n",
    "    \"N\",\n",
    ")\n",
    "\n",
    "gdf.head()"
   ]
  },
  {
   "cell_type": "code",
   "execution_count": null,
   "id": "4dfcc0be-96d0-49a3-a10b-769c83f85e07",
   "metadata": {},
   "outputs": [],
   "source": [
    "gdf = gdf.dissolve(by=\"dissolve\", sort=False)\n",
    "gdf.head()"
   ]
  },
  {
   "cell_type": "code",
   "execution_count": null,
   "id": "4328f792-2a50-4658-b5b8-0ce209c29e28",
   "metadata": {},
   "outputs": [],
   "source": [
    "gdf.plot(figsize=(15, 10))"
   ]
  },
  {
   "cell_type": "code",
   "execution_count": null,
   "id": "6f4c2b27-671d-4d78-9949-aacfcd8f0297",
   "metadata": {},
   "outputs": [],
   "source": [
    "gdf.plot(color=[\"black\", \"red\"])\n",
    "\n",
    "plt.axis(\"off\")\n",
    "plt.margins(0)\n",
    "\n",
    "plt.savefig(\n",
    "    \"./minimap_sado.svg\",\n",
    "    format=\"svg\",\n",
    "    transparent=True,\n",
    "    bbox_inches=\"tight\",\n",
    "    pad_inches=0,\n",
    "    # `cairo` simplifies the SVG shape.\n",
    "    # backend=\"cairo\",\n",
    "    backend=\"svg\",\n",
    ")\n",
    "\n",
    "plt.show()"
   ]
  },
  {
   "cell_type": "markdown",
   "id": "703633e8-4776-4efa-8108-f3929a27d665",
   "metadata": {},
   "source": [
    "---"
   ]
  }
 ],
 "metadata": {
  "kernelspec": {
   "display_name": "Python 3 (ipykernel)",
   "language": "python",
   "name": "python3"
  },
  "language_info": {
   "codemirror_mode": {
    "name": "ipython",
    "version": 3
   },
   "file_extension": ".py",
   "mimetype": "text/x-python",
   "name": "python",
   "nbconvert_exporter": "python",
   "pygments_lexer": "ipython3",
   "version": "3.7.12"
  }
 },
 "nbformat": 4,
 "nbformat_minor": 5
}
