{
 "cells": [
  {
   "cell_type": "code",
   "execution_count": null,
   "id": "63cb4240-84fc-45b7-b29f-6c1dbe065964",
   "metadata": {},
   "outputs": [],
   "source": [
    "import pandas as pd"
   ]
  },
  {
   "cell_type": "code",
   "execution_count": null,
   "id": "507ced86-bce4-4f3e-82f3-e865b5c6b68d",
   "metadata": {},
   "outputs": [],
   "source": [
    "DATA_URL: str = \"https://raw.githubusercontent.com/dssgPT/Plotting-Good-DSSG/main/desafios/001_Seca_Em_Portugal_SNIRH/snirh_clean.csv\""
   ]
  },
  {
   "cell_type": "code",
   "execution_count": null,
   "id": "241067d5-ac45-4f51-b698-6131482a196f",
   "metadata": {},
   "outputs": [],
   "source": [
    "df = pd.read_csv(DATA_URL, index_col=0)"
   ]
  },
  {
   "cell_type": "code",
   "execution_count": null,
   "id": "9f716d33-3fe9-49f9-998f-38859d515247",
   "metadata": {},
   "outputs": [],
   "source": [
    "df.head()"
   ]
  },
  {
   "cell_type": "code",
   "execution_count": null,
   "id": "845e917d-30d7-4350-8c42-f2871847593e",
   "metadata": {},
   "outputs": [],
   "source": [
    "df.tail()"
   ]
  },
  {
   "cell_type": "code",
   "execution_count": null,
   "id": "610d7dd5-14fd-43dc-92e3-8ff78811c5ba",
   "metadata": {},
   "outputs": [],
   "source": [
    "df.shape"
   ]
  },
  {
   "cell_type": "code",
   "execution_count": null,
   "id": "c5e8b3a8-6f8c-456d-8243-0b588563bcde",
   "metadata": {},
   "outputs": [],
   "source": [
    "df.dtypes"
   ]
  },
  {
   "cell_type": "code",
   "execution_count": null,
   "id": "eef865a2-e622-4221-8b6b-449f59a4d86b",
   "metadata": {},
   "outputs": [],
   "source": [
    "df.query(\"nome_infraestrutura == 'Arade'\").head()"
   ]
  },
  {
   "cell_type": "code",
   "execution_count": null,
   "id": "3284ef4a-b7cb-4f9d-82a5-cc1ed9a9794c",
   "metadata": {},
   "outputs": [],
   "source": [
    "df.query(\"nome_infraestrutura == 'ARADE'\").head()"
   ]
  },
  {
   "cell_type": "code",
   "execution_count": null,
   "id": "b245c61e-ed82-4624-8e94-77fc2e8f5940",
   "metadata": {},
   "outputs": [],
   "source": [
    "df.query(\"nome_infraestrutura == 'Vigia'\").tail()"
   ]
  },
  {
   "cell_type": "code",
   "execution_count": null,
   "id": "700065ca-cc3c-4771-84b6-8f454ffddd98",
   "metadata": {},
   "outputs": [],
   "source": [
    "df[\"nome_infraestrutura\"].nunique()"
   ]
  },
  {
   "cell_type": "code",
   "execution_count": null,
   "id": "28392277-4ed1-4b62-a387-e608297831b8",
   "metadata": {},
   "outputs": [],
   "source": [
    "df[\"nome_infraestrutura\"].value_counts(dropna=False)"
   ]
  },
  {
   "cell_type": "code",
   "execution_count": null,
   "id": "2052acff-8601-4dbd-9791-ce019e147b94",
   "metadata": {},
   "outputs": [],
   "source": [
    "df[\"nome_infraestrutura\"].unique().tolist()"
   ]
  },
  {
   "cell_type": "code",
   "execution_count": null,
   "id": "430b0609-2681-41ec-912f-45ffc818ccd3",
   "metadata": {},
   "outputs": [],
   "source": [
    "df[\"tipo_de_infraestrutura\"].nunique()"
   ]
  },
  {
   "cell_type": "code",
   "execution_count": null,
   "id": "cacb5229-0b71-47d8-994b-396247b8d840",
   "metadata": {},
   "outputs": [],
   "source": [
    "df[\"tipo_de_infraestrutura\"].value_counts(dropna=False)"
   ]
  },
  {
   "cell_type": "code",
   "execution_count": null,
   "id": "d7275162-70f2-4c0c-8ae7-636347889f5f",
   "metadata": {},
   "outputs": [],
   "source": [
    "df[\"medida\"].nunique()"
   ]
  },
  {
   "cell_type": "code",
   "execution_count": null,
   "id": "1c73521c-e298-4ce8-b5ad-0b242b5b505c",
   "metadata": {},
   "outputs": [],
   "source": [
    "df[\"medida\"].value_counts(dropna=False)"
   ]
  },
  {
   "cell_type": "code",
   "execution_count": null,
   "id": "f71d75d4-372b-49a5-9263-c1ce2106a5d0",
   "metadata": {},
   "outputs": [],
   "source": [
    "df[\"resumo_infraestrutura\"].value_counts(dropna=False)"
   ]
  },
  {
   "cell_type": "markdown",
   "id": "4285ab2b-389d-4c74-806e-28b155523004",
   "metadata": {},
   "source": [
    "---"
   ]
  }
 ],
 "metadata": {
  "kernelspec": {
   "display_name": "Python 3 (ipykernel)",
   "language": "python",
   "name": "python3"
  },
  "language_info": {
   "codemirror_mode": {
    "name": "ipython",
    "version": 3
   },
   "file_extension": ".py",
   "mimetype": "text/x-python",
   "name": "python",
   "nbconvert_exporter": "python",
   "pygments_lexer": "ipython3",
   "version": "3.7.12"
  }
 },
 "nbformat": 4,
 "nbformat_minor": 5
}
