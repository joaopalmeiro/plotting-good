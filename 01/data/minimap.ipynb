{
 "cells": [
  {
   "cell_type": "code",
   "execution_count": null,
   "id": "28a39ae3-8a10-4622-a978-9eb774f3764a",
   "metadata": {},
   "outputs": [],
   "source": [
    "from dataprep.clean import clean_lat_long\n",
    "import geopandas\n",
    "import matplotlib.pyplot as plt\n",
    "import pandas as pd\n",
    "import pyproj"
   ]
  },
  {
   "cell_type": "markdown",
   "id": "a43c51ba-d908-4628-8215-e8a99816d90b",
   "metadata": {},
   "source": [
    "- https://dados.gov.pt/en/datasets/distritos-de-portugal/\n",
    "- https://epsg.io/4326\n",
    "- https://epsg.io/20790\n",
    "- https://pyproj4.github.io/pyproj/stable/api/proj.html#pyproj-proj\n",
    "- https://epsg.io/3395\n",
    "- https://geopandas.org/en/stable/docs/user_guide/projections.html#re-projecting\n",
    "- https://snirh.apambiente.pt/index.php?idMain=1&idItem=1.3&salbufeirasimbolo=22L/01A\n",
    "- https://geopandas.org/en/stable/docs/user_guide/aggregation_with_dissolve.html#dissolve-example\n",
    "- https://gis.stackexchange.com/a/280314\n",
    "- https://pyproj4.github.io/pyproj/stable/gotchas.html#upgrading-to-pyproj-2-from-pyproj-1\n",
    "- http://www.igeoe.pt/coordenadas/trans.aspx\n",
    "- https://www.u-consult.pt/UConsultToolApps/Views/Conversor.html\n",
    "- https://docs.dataprep.ai/api_reference/dataprep.clean.html#module-dataprep.clean.clean_lat_long\n",
    "- https://pt.wikipedia.org/wiki/Barragem_da_Vigia\n",
    "- https://geopandas.org/en/stable/docs/user_guide/projections.html#setting-a-projection\n",
    "- https://geopandas.org/en/stable/docs/reference/api/geopandas.GeoSeries.simplify.html"
   ]
  },
  {
   "cell_type": "code",
   "execution_count": null,
   "id": "b5dfbf55-9a39-4560-8047-e2e7efd1456c",
   "metadata": {},
   "outputs": [],
   "source": [
    "PORTUGAL_MAP: str = \"./raw/distritos/distritos.shp\"\n",
    "\n",
    "# Vigia\n",
    "COORDENADA_M: int = 245862\n",
    "COORDENADA_P: int = 174662\n",
    "\n",
    "IN_EPSG: int = 20790\n",
    "OUT_EPSG: int = 4326"
   ]
  },
  {
   "cell_type": "code",
   "execution_count": null,
   "id": "088e13f2-7080-43d3-bce6-93e774a59c3e",
   "metadata": {},
   "outputs": [],
   "source": [
    "gdf = geopandas.read_file(PORTUGAL_MAP).query(\"TYPE_1 == 'Distrito'\")"
   ]
  },
  {
   "cell_type": "code",
   "execution_count": null,
   "id": "86e6e9ad-7bf8-43a2-9f7f-5ef6af5ba295",
   "metadata": {},
   "outputs": [],
   "source": [
    "gdf.head()"
   ]
  },
  {
   "cell_type": "code",
   "execution_count": null,
   "id": "a923adc5-dfb6-47dc-b50a-2af2f727bcde",
   "metadata": {},
   "outputs": [],
   "source": [
    "gdf.plot(figsize=(15, 10))"
   ]
  },
  {
   "cell_type": "code",
   "execution_count": null,
   "id": "940aeb2e-df91-490f-9af9-1732235716bd",
   "metadata": {},
   "outputs": [],
   "source": [
    "gdf.crs"
   ]
  },
  {
   "cell_type": "code",
   "execution_count": null,
   "id": "68920a25-6a11-4ae4-8473-2be1d2e294bd",
   "metadata": {},
   "outputs": [],
   "source": [
    "country_gdf = gdf.dissolve(by=\"NAME_0\")"
   ]
  },
  {
   "cell_type": "code",
   "execution_count": null,
   "id": "40216a68-1529-41ef-9db6-e661fec053b2",
   "metadata": {},
   "outputs": [],
   "source": [
    "country_gdf.shape"
   ]
  },
  {
   "cell_type": "code",
   "execution_count": null,
   "id": "d161a90b-59be-4273-946f-f94503d3fce0",
   "metadata": {},
   "outputs": [],
   "source": [
    "country_gdf.crs"
   ]
  },
  {
   "cell_type": "code",
   "execution_count": null,
   "id": "7c8ef955-8d52-4b26-823b-f5930b9677e5",
   "metadata": {},
   "outputs": [],
   "source": [
    "country_gdf.plot(figsize=(15, 10))"
   ]
  },
  {
   "cell_type": "code",
   "execution_count": null,
   "id": "d984c71f-9d85-48ca-9c7a-c81b878f2b8f",
   "metadata": {},
   "outputs": [],
   "source": [
    "transformer = pyproj.Transformer.from_crs(f\"epsg:{IN_EPSG}\", f\"epsg:{OUT_EPSG}\")\n",
    "coords = transformer.transform(COORDENADA_M, COORDENADA_P)\n",
    "coords"
   ]
  },
  {
   "cell_type": "code",
   "execution_count": null,
   "id": "d4d1bf0e-c1f5-444c-a406-d19e5664b5f6",
   "metadata": {},
   "outputs": [],
   "source": [
    "# https://docs.mapbox.com/help/glossary/lat-lon/\n",
    "\n",
    "# Ranges:\n",
    "# -90 to 90 for latitude\n",
    "# -180 to 180 for longitude"
   ]
  },
  {
   "cell_type": "code",
   "execution_count": null,
   "id": "e59363e1-d33a-4fce-b7e8-ceb2e4861554",
   "metadata": {},
   "outputs": [],
   "source": [
    "dataprep_df = pd.DataFrame({\"coords\": [coords]})\n",
    "\n",
    "clean_lat_long(dataprep_df, \"coords\", split=True, output_format=\"dms\")"
   ]
  },
  {
   "cell_type": "code",
   "execution_count": null,
   "id": "4f2cc853-6605-4345-a942-4d00928f3872",
   "metadata": {},
   "outputs": [],
   "source": [
    "dataprep_df = pd.DataFrame({\"coords\": [\"38° 32′ 17.152″ N, 7° 36′ 25.463″ W\"]})\n",
    "\n",
    "clean_lat_long(dataprep_df, \"coords\", split=True, output_format=\"dd\")"
   ]
  },
  {
   "cell_type": "code",
   "execution_count": null,
   "id": "b007e1cb-8d3a-4d46-8977-a69a0b9eab9f",
   "metadata": {},
   "outputs": [],
   "source": [
    "df = pd.DataFrame(\n",
    "    {\"Albufeira\": [\"Vigia\"], \"Latitude\": [coords[0]], \"Longitude\": [coords[1]]}\n",
    ")\n",
    "df"
   ]
  },
  {
   "cell_type": "code",
   "execution_count": null,
   "id": "e2516a9a-6ba3-4faf-b76a-6284c0b00b86",
   "metadata": {},
   "outputs": [],
   "source": [
    "point_gdf = geopandas.GeoDataFrame(\n",
    "    df, geometry=geopandas.points_from_xy(df.Longitude, df.Latitude)\n",
    ")\n",
    "point_gdf"
   ]
  },
  {
   "cell_type": "code",
   "execution_count": null,
   "id": "41c5abef-f4ad-48ab-9358-e219fc0dace5",
   "metadata": {},
   "outputs": [],
   "source": [
    "# point_gdf.crs\n",
    "\n",
    "point_gdf = point_gdf.set_crs(epsg=OUT_EPSG)\n",
    "point_gdf.crs"
   ]
  },
  {
   "cell_type": "code",
   "execution_count": null,
   "id": "f99270a2-0029-4897-97b2-fadcbb6dc7bc",
   "metadata": {},
   "outputs": [],
   "source": [
    "point_gdf"
   ]
  },
  {
   "cell_type": "code",
   "execution_count": null,
   "id": "a6a5a527-3353-45c5-8e10-5c9942ca0a25",
   "metadata": {},
   "outputs": [],
   "source": [
    "ax = country_gdf.plot(color=\"black\")\n",
    "# ax = country_gdf.plot(figsize=(15, 10), color=\"black\")\n",
    "# ax = country_gdf.plot(color=\"white\", edgecolor=\"black\", linewidth=0.5)\n",
    "# ax = country_gdf.simplify(0.05).plot()\n",
    "\n",
    "point_gdf.plot(ax=ax, color=\"red\", linewidth=0)\n",
    "\n",
    "plt.axis(\"off\")\n",
    "plt.margins(0)\n",
    "\n",
    "plt.savefig(\n",
    "    f\"./minimap_vigia.svg\",\n",
    "    format=\"svg\",\n",
    "    transparent=True,\n",
    "    bbox_inches=\"tight\",\n",
    "    pad_inches=0,\n",
    "    backend=\"cairo\",\n",
    ")\n",
    "\n",
    "plt.show()"
   ]
  },
  {
   "cell_type": "markdown",
   "id": "516a1e93-b577-4a81-a03b-444a404ea5c3",
   "metadata": {},
   "source": [
    "---"
   ]
  }
 ],
 "metadata": {
  "kernelspec": {
   "display_name": "Python 3 (ipykernel)",
   "language": "python",
   "name": "python3"
  },
  "language_info": {
   "codemirror_mode": {
    "name": "ipython",
    "version": 3
   },
   "file_extension": ".py",
   "mimetype": "text/x-python",
   "name": "python",
   "nbconvert_exporter": "python",
   "pygments_lexer": "ipython3",
   "version": "3.7.12"
  }
 },
 "nbformat": 4,
 "nbformat_minor": 5
}
