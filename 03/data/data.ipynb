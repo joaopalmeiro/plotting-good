{
 "cells": [
  {
   "cell_type": "code",
   "execution_count": null,
   "id": "6172f566-e472-4508-b924-ddbac5ca30ba",
   "metadata": {},
   "outputs": [],
   "source": [
    "import altair as alt\n",
    "import pandas as pd\n",
    "import spectra"
   ]
  },
  {
   "cell_type": "markdown",
   "id": "5e5580d8-8252-4c32-a796-2f3cdbdf321f",
   "metadata": {},
   "source": [
    "- https://www.compart.com/en/unicode/U+02E7"
   ]
  },
  {
   "cell_type": "code",
   "execution_count": null,
   "id": "cf8681c6-f9c1-4c6a-9922-5b3a5cd8e300",
   "metadata": {},
   "outputs": [],
   "source": [
    "DATA: str = \"https://raw.githubusercontent.com/dssgPT/Plotting-Good-DSSG/main/desafios/004_Transparencia_Salarial/pwit_transparencia_salarial.csv\""
   ]
  },
  {
   "cell_type": "code",
   "execution_count": null,
   "id": "ee197ece-e2c5-4d5c-abe0-e5f1e6f48a6a",
   "metadata": {},
   "outputs": [],
   "source": [
    "df = pd.read_csv(DATA, index_col=0)\n",
    "df_filter = df.query(\"salario_processado > 1\")"
   ]
  },
  {
   "cell_type": "code",
   "execution_count": null,
   "id": "4859cd33-29f4-4a32-8ed4-75a50eaddd3a",
   "metadata": {},
   "outputs": [],
   "source": [
    "df.shape, df_filter.shape"
   ]
  },
  {
   "cell_type": "code",
   "execution_count": null,
   "id": "2056c89d-c11f-48b3-9c18-58beb5e945c8",
   "metadata": {},
   "outputs": [],
   "source": [
    "df.head()"
   ]
  },
  {
   "cell_type": "code",
   "execution_count": null,
   "id": "bd3427b5-fb7f-4f4a-9aa1-8a252ab3c5bd",
   "metadata": {},
   "outputs": [],
   "source": [
    "df.dtypes"
   ]
  },
  {
   "cell_type": "code",
   "execution_count": null,
   "id": "70474239-eda3-457a-81ba-629199e09ef8",
   "metadata": {},
   "outputs": [],
   "source": [
    "df[\"genero\"].value_counts(dropna=False, normalize=True)"
   ]
  },
  {
   "cell_type": "code",
   "execution_count": null,
   "id": "ee81178f-4c47-422f-a2d2-fa5ca8adf171",
   "metadata": {},
   "outputs": [],
   "source": [
    "df[\"anos_de_experiencia\"].value_counts(dropna=False)"
   ]
  },
  {
   "cell_type": "code",
   "execution_count": null,
   "id": "58d4e6a3-fa12-452f-8e39-246ede8343ad",
   "metadata": {},
   "outputs": [],
   "source": [
    "df[\"idade\"].value_counts(dropna=False)"
   ]
  },
  {
   "cell_type": "code",
   "execution_count": null,
   "id": "8afcdf6d-91d6-45fc-8a80-d1969c3f9aef",
   "metadata": {},
   "outputs": [],
   "source": [
    "df[\"tamanho_da_empresa\"].value_counts(dropna=False)"
   ]
  },
  {
   "cell_type": "code",
   "execution_count": null,
   "id": "9ff9a96f-f8eb-4ac0-870e-0f028d4c24c3",
   "metadata": {},
   "outputs": [],
   "source": [
    "df[\"local\"].value_counts(dropna=False)"
   ]
  },
  {
   "cell_type": "code",
   "execution_count": null,
   "id": "41ba4ec5-dea9-4bc3-b8ed-4e296aef8a28",
   "metadata": {},
   "outputs": [],
   "source": [
    "df[\"titulo\"].nunique()"
   ]
  },
  {
   "cell_type": "code",
   "execution_count": null,
   "id": "238871fe-c118-43c9-bf70-5b54cbd064be",
   "metadata": {},
   "outputs": [],
   "source": [
    "df[\"local\"].nunique()"
   ]
  },
  {
   "cell_type": "code",
   "execution_count": null,
   "id": "3121f158-0c49-4eb7-9ec6-c133e8258a24",
   "metadata": {},
   "outputs": [],
   "source": [
    "df[\"salario_processado\"].min()"
   ]
  },
  {
   "cell_type": "code",
   "execution_count": null,
   "id": "431a6c98-c639-4cba-80fd-4514d8881ce9",
   "metadata": {},
   "outputs": [],
   "source": [
    "df[\"salario_processado\"].max()"
   ]
  },
  {
   "cell_type": "code",
   "execution_count": null,
   "id": "1be6533d-ae7d-4a23-b0d9-e97e21a92725",
   "metadata": {},
   "outputs": [],
   "source": [
    "# with pd.option_context(\"display.max_rows\", None):\n",
    "# display(df.sort_values(by=\"salario_processado\"))\n",
    "# display(df_filter.sort_values(by=\"salario_processado\"))"
   ]
  },
  {
   "cell_type": "code",
   "execution_count": null,
   "id": "b08f5287-b29c-4ce1-b5d3-9df0c62d7eb6",
   "metadata": {},
   "outputs": [],
   "source": [
    "df.groupby(\"genero\")[\"salario_processado\"].mean(numeric_only=True)"
   ]
  },
  {
   "cell_type": "code",
   "execution_count": null,
   "id": "f2fea308-af7c-481f-b6e2-e5ba3866d86f",
   "metadata": {},
   "outputs": [],
   "source": [
    "df_filter.groupby(\"genero\")[\"salario_processado\"].median()"
   ]
  },
  {
   "cell_type": "code",
   "execution_count": null,
   "id": "d96d3d45-3871-4857-a378-80976f8d788f",
   "metadata": {},
   "outputs": [],
   "source": [
    "df_filter[\"salario_processado\"].median()"
   ]
  },
  {
   "cell_type": "code",
   "execution_count": null,
   "id": "fe045607-52c3-406d-b1bc-b3400d8b4f7b",
   "metadata": {},
   "outputs": [],
   "source": [
    "df_plot = df_filter.groupby(\"genero\", as_index=False)[\"salario_processado\"].median()\n",
    "\n",
    "df_plot = df_plot.append(\n",
    "    {\"genero\": \"all\", \"salario_processado\": df_filter[\"salario_processado\"].median()},\n",
    "    ignore_index=True,\n",
    ")\n",
    "\n",
    "df_plot"
   ]
  },
  {
   "cell_type": "code",
   "execution_count": null,
   "id": "5ca231ea-9b3e-4d8f-820f-e12a9a8befc0",
   "metadata": {},
   "outputs": [],
   "source": [
    "# df_plot.to_clipboard(index=False)"
   ]
  },
  {
   "cell_type": "code",
   "execution_count": null,
   "id": "01492b5d-d6e4-4484-a581-e505ca41bb8a",
   "metadata": {},
   "outputs": [],
   "source": [
    "WOMAN_COLOR = spectra.html(\"#8624f5\")\n",
    "MAN_COLOR = spectra.html(\"#1fc3aa\")\n",
    "\n",
    "# ALL_COLOR = WOMAN_COLOR.blend(MAN_COLOR, ratio=0.5)\n",
    "ALL_COLOR = \"black\""
   ]
  },
  {
   "cell_type": "code",
   "execution_count": null,
   "id": "87641639-c3c4-4f5c-80f9-a808f4c94786",
   "metadata": {},
   "outputs": [],
   "source": [
    "max_value = df_plot[\"salario_processado\"].max()\n",
    "\n",
    "alt.Chart(df_plot).mark_bar().encode(\n",
    "    x=alt.X(\"genero:N\", sort=\"y\", axis=alt.Axis(title=None, ticks=False, labels=False)),\n",
    "    y=alt.Y(\n",
    "        \"salario_processado:Q\",\n",
    "        axis=alt.Axis(\n",
    "            title=None,\n",
    "            domain=False,\n",
    "            format=\"f\",\n",
    "            values=[0, 1000, 2000, max_value],\n",
    "            tickSize=10,\n",
    "        ),\n",
    "        scale=alt.Scale(domain=[0, max_value], nice=False),\n",
    "    ),\n",
    "    color=alt.Color(\n",
    "        \"genero:N\",\n",
    "        scale=alt.Scale(\n",
    "            domain=[\"homem\", \"mulher\", \"all\"],\n",
    "            range=[MAN_COLOR.hexcode, WOMAN_COLOR.hexcode, ALL_COLOR],\n",
    "        ),\n",
    "        legend=None,\n",
    "    ),\n",
    ").configure_view(strokeWidth=0).configure_axis(\n",
    "    labelFont=\"Mukta\", labelFontSize=12\n",
    ").properties(\n",
    "    width=200, height=400\n",
    ")"
   ]
  },
  {
   "cell_type": "code",
   "execution_count": null,
   "id": "e465a97d-b1bd-4b0e-892a-f20077ab441a",
   "metadata": {},
   "outputs": [],
   "source": [
    "df_filter.head()"
   ]
  },
  {
   "cell_type": "code",
   "execution_count": null,
   "id": "67462761-f54b-477c-88e7-84af20f56c81",
   "metadata": {},
   "outputs": [],
   "source": [
    "alt.Chart(df_filter).mark_tick(opacity=1).encode(\n",
    "    x=alt.X(\"salario_processado:Q\"),\n",
    "    y=alt.Y(\"genero:N\"),\n",
    "    facet=alt.Facet(\"anos_de_experiencia:N\", columns=2),\n",
    ")"
   ]
  },
  {
   "cell_type": "code",
   "execution_count": null,
   "id": "1ebc57b1-cc5d-42b5-89f2-c1ce1d7ab03a",
   "metadata": {},
   "outputs": [],
   "source": [
    "df_count = (\n",
    "    df[\"genero\"]\n",
    "    .value_counts(dropna=False)\n",
    "    .rename_axis(\"genero\")\n",
    "    .reset_index(name=\"counts\")\n",
    ")\n",
    "df_count"
   ]
  },
  {
   "cell_type": "code",
   "execution_count": null,
   "id": "79f1ee7f-1191-4520-a1cd-e9a84da3af5d",
   "metadata": {},
   "outputs": [],
   "source": [
    "size: int = 24\n",
    "\n",
    "alt.Chart(df_count).mark_arc(stroke=\"white\", strokeWidth=0.5).encode(\n",
    "    theta=alt.Theta(field=\"counts\", type=\"quantitative\"),\n",
    "    color=alt.Color(\n",
    "        field=\"genero\",\n",
    "        type=\"nominal\",\n",
    "        legend=None,\n",
    "        scale=alt.Scale(\n",
    "            domain=[\"homem\", \"mulher\"],\n",
    "            range=[MAN_COLOR.hexcode, WOMAN_COLOR.hexcode],\n",
    "        ),\n",
    "    ),\n",
    "    order=alt.Order(\"counts:Q\", sort=\"descending\"),\n",
    ").configure_view(strokeWidth=0).properties(width=size, height=size)"
   ]
  },
  {
   "cell_type": "markdown",
   "id": "a19e8f71-29a3-4e91-997d-52fcc449b138",
   "metadata": {},
   "source": [
    "---"
   ]
  }
 ],
 "metadata": {
  "kernelspec": {
   "display_name": "Python 3 (ipykernel)",
   "language": "python",
   "name": "python3"
  },
  "language_info": {
   "codemirror_mode": {
    "name": "ipython",
    "version": 3
   },
   "file_extension": ".py",
   "mimetype": "text/x-python",
   "name": "python",
   "nbconvert_exporter": "python",
   "pygments_lexer": "ipython3",
   "version": "3.7.12"
  }
 },
 "nbformat": 4,
 "nbformat_minor": 5
}
