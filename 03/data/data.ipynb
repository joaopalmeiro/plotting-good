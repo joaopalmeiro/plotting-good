{
 "cells": [
  {
   "cell_type": "code",
   "execution_count": null,
   "id": "6172f566-e472-4508-b924-ddbac5ca30ba",
   "metadata": {},
   "outputs": [],
   "source": [
    "import pandas as pd"
   ]
  },
  {
   "cell_type": "code",
   "execution_count": null,
   "id": "cf8681c6-f9c1-4c6a-9922-5b3a5cd8e300",
   "metadata": {},
   "outputs": [],
   "source": [
    "DATA: str = \"https://raw.githubusercontent.com/dssgPT/Plotting-Good-DSSG/main/desafios/004_Transparencia_Salarial/pwit_transparencia_salarial.csv\""
   ]
  },
  {
   "cell_type": "code",
   "execution_count": null,
   "id": "ee197ece-e2c5-4d5c-abe0-e5f1e6f48a6a",
   "metadata": {},
   "outputs": [],
   "source": [
    "df = pd.read_csv(DATA, index_col=0)"
   ]
  },
  {
   "cell_type": "code",
   "execution_count": null,
   "id": "2056c89d-c11f-48b3-9c18-58beb5e945c8",
   "metadata": {},
   "outputs": [],
   "source": [
    "df.head()"
   ]
  },
  {
   "cell_type": "code",
   "execution_count": null,
   "id": "70474239-eda3-457a-81ba-629199e09ef8",
   "metadata": {},
   "outputs": [],
   "source": [
    "df[\"genero\"].value_counts(dropna=False, normalize=True)"
   ]
  },
  {
   "cell_type": "code",
   "execution_count": null,
   "id": "ee81178f-4c47-422f-a2d2-fa5ca8adf171",
   "metadata": {},
   "outputs": [],
   "source": [
    "df[\"anos_de_experiencia\"].value_counts(dropna=False)"
   ]
  },
  {
   "cell_type": "code",
   "execution_count": null,
   "id": "58d4e6a3-fa12-452f-8e39-246ede8343ad",
   "metadata": {},
   "outputs": [],
   "source": [
    "df[\"idade\"].value_counts(dropna=False)"
   ]
  },
  {
   "cell_type": "code",
   "execution_count": null,
   "id": "8afcdf6d-91d6-45fc-8a80-d1969c3f9aef",
   "metadata": {},
   "outputs": [],
   "source": [
    "df[\"tamanho_da_empresa\"].value_counts(dropna=False)"
   ]
  },
  {
   "cell_type": "code",
   "execution_count": null,
   "id": "9ff9a96f-f8eb-4ac0-870e-0f028d4c24c3",
   "metadata": {},
   "outputs": [],
   "source": [
    "df[\"local\"].value_counts(dropna=False)"
   ]
  },
  {
   "cell_type": "code",
   "execution_count": null,
   "id": "41ba4ec5-dea9-4bc3-b8ed-4e296aef8a28",
   "metadata": {},
   "outputs": [],
   "source": [
    "df[\"titulo\"].nunique()"
   ]
  },
  {
   "cell_type": "code",
   "execution_count": null,
   "id": "238871fe-c118-43c9-bf70-5b54cbd064be",
   "metadata": {},
   "outputs": [],
   "source": [
    "df[\"local\"].nunique()"
   ]
  },
  {
   "cell_type": "markdown",
   "id": "a19e8f71-29a3-4e91-997d-52fcc449b138",
   "metadata": {},
   "source": [
    "---"
   ]
  }
 ],
 "metadata": {
  "kernelspec": {
   "display_name": "Python 3 (ipykernel)",
   "language": "python",
   "name": "python3"
  },
  "language_info": {
   "codemirror_mode": {
    "name": "ipython",
    "version": 3
   },
   "file_extension": ".py",
   "mimetype": "text/x-python",
   "name": "python",
   "nbconvert_exporter": "python",
   "pygments_lexer": "ipython3",
   "version": "3.7.12"
  }
 },
 "nbformat": 4,
 "nbformat_minor": 5
}
