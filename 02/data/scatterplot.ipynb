{
 "cells": [
  {
   "cell_type": "code",
   "execution_count": null,
   "id": "268f0ea6-b954-455b-8502-1f11e511633e",
   "metadata": {},
   "outputs": [],
   "source": [
    "import altair as alt\n",
    "import pandas as pd"
   ]
  },
  {
   "cell_type": "code",
   "execution_count": null,
   "id": "918fa589-6b26-486f-8b35-0f013c31e623",
   "metadata": {},
   "outputs": [],
   "source": [
    "alt.renderers.set_embed_options(renderer=\"svg\")"
   ]
  },
  {
   "cell_type": "code",
   "execution_count": null,
   "id": "65505d93-110d-48e8-b83e-22a2e87a3c79",
   "metadata": {},
   "outputs": [],
   "source": [
    "DATA: str = \"https://raw.githubusercontent.com/dssgPT/Plotting-Good-DSSG/main/desafios/002_Qualidade_do_Ar_em_Portugal_EEA/qualidade_do_ar.csv\""
   ]
  },
  {
   "cell_type": "code",
   "execution_count": null,
   "id": "05d5e9eb-aa40-4e54-abf4-baf793d2fa7e",
   "metadata": {},
   "outputs": [],
   "source": [
    "df = pd.read_csv(DATA, index_col=0)\n",
    "df[\"cidade\"] = df[\"cidade\"].str.strip()"
   ]
  },
  {
   "cell_type": "code",
   "execution_count": null,
   "id": "510f4b5f-144e-4de6-8c75-b53d776114bd",
   "metadata": {},
   "outputs": [],
   "source": [
    "cols = [\n",
    "    \"cidade\",\n",
    "    \"poluente\",\n",
    "    \"unidade_de_nivel_de_poluicao\",\n",
    "    \"metrica\",\n",
    "    \"nome_estacao\",\n",
    "    \"ano\",\n",
    "    \"nível_de_poluicao\",\n",
    "]\n",
    "\n",
    "poluentes = [\"O3\", \"NO2\"]\n",
    "year = 2021\n",
    "\n",
    "df_year = df.query(\n",
    "    \"poluente == @poluentes & metrica == 'Média anual' & ano == @year\"\n",
    ").sort_values(by=[\"nome_estacao\", \"poluente\"])[cols]"
   ]
  },
  {
   "cell_type": "code",
   "execution_count": null,
   "id": "97cbe2a8-fb6e-4c5f-92a0-38b318c542a0",
   "metadata": {},
   "outputs": [],
   "source": [
    "df_year.shape"
   ]
  },
  {
   "cell_type": "code",
   "execution_count": null,
   "id": "8b9af825-88e6-4546-9d47-20795077c5a0",
   "metadata": {},
   "outputs": [],
   "source": [
    "with pd.option_context(\"display.max_rows\", None):\n",
    "    display(df_year)"
   ]
  },
  {
   "cell_type": "code",
   "execution_count": null,
   "id": "bbcdebb7-9008-416a-b1b7-520aff358190",
   "metadata": {},
   "outputs": [],
   "source": [
    "df_year[\"nome_estacao\"].nunique()"
   ]
  },
  {
   "cell_type": "code",
   "execution_count": null,
   "id": "8dc2e294-1024-456c-b6d6-271314b5ed7d",
   "metadata": {},
   "outputs": [],
   "source": [
    "# df_year[\"nome_estacao\"].value_counts(dropna=False)"
   ]
  },
  {
   "cell_type": "code",
   "execution_count": null,
   "id": "f721e9f9-10e3-4edb-af61-64b6d241a573",
   "metadata": {},
   "outputs": [],
   "source": [
    "df_pivot = df_year.pivot(\n",
    "    index=[\"nome_estacao\", \"cidade\"], columns=\"poluente\", values=\"nível_de_poluicao\"\n",
    ")\n",
    "df_pivot = df_pivot.reset_index().rename_axis(None, axis=1)\n",
    "df_pivot = df_pivot.dropna(subset=[\"NO2\", \"O3\"])\n",
    "\n",
    "df_pivot.head()"
   ]
  },
  {
   "cell_type": "code",
   "execution_count": null,
   "id": "8030b13f-0416-42ca-8f78-21bc56d793d6",
   "metadata": {},
   "outputs": [],
   "source": [
    "with pd.option_context(\"display.max_rows\", None):\n",
    "    display(df_pivot)"
   ]
  },
  {
   "cell_type": "code",
   "execution_count": null,
   "id": "5eeddf91-9b20-4ebe-8ebc-ee21e1b15c4b",
   "metadata": {},
   "outputs": [],
   "source": [
    "alt.Chart(df_pivot).mark_circle().encode(\n",
    "    x=alt.X(\"NO2:Q\"), y=alt.Y(\"O3:Q\"), tooltip=[\"nome_estacao\", \"cidade\", \"NO2\", \"O3\"]\n",
    ")"
   ]
  },
  {
   "cell_type": "code",
   "execution_count": null,
   "id": "87e0eb1c-4a82-46eb-b871-5cc81ea813ed",
   "metadata": {},
   "outputs": [],
   "source": [
    "df_pivot.to_csv(\"scatterplot.csv\", index=False)"
   ]
  },
  {
   "cell_type": "markdown",
   "id": "e06ce545-43f2-4fd7-a015-1b17c2677770",
   "metadata": {},
   "source": [
    "---"
   ]
  }
 ],
 "metadata": {
  "kernelspec": {
   "display_name": "Python 3 (ipykernel)",
   "language": "python",
   "name": "python3"
  },
  "language_info": {
   "codemirror_mode": {
    "name": "ipython",
    "version": 3
   },
   "file_extension": ".py",
   "mimetype": "text/x-python",
   "name": "python",
   "nbconvert_exporter": "python",
   "pygments_lexer": "ipython3",
   "version": "3.7.12"
  }
 },
 "nbformat": 4,
 "nbformat_minor": 5
}
