{
 "cells": [
  {
   "cell_type": "code",
   "execution_count": null,
   "id": "a5fa9c4e-3742-4e63-a317-476f7ac3e127",
   "metadata": {},
   "outputs": [],
   "source": [
    "import altair as alt\n",
    "import pandas as pd"
   ]
  },
  {
   "cell_type": "markdown",
   "id": "47a6ba53-2546-4399-a4e3-fe9ce29dccba",
   "metadata": {},
   "source": [
    "- https://altair-viz.github.io/user_guide/configuration.html"
   ]
  },
  {
   "cell_type": "code",
   "execution_count": null,
   "id": "93de6d67-9c5f-4377-b468-891f200b61d0",
   "metadata": {},
   "outputs": [],
   "source": [
    "DATA: str = \"https://raw.githubusercontent.com/dssgPT/Plotting-Good-DSSG/main/desafios/002_Qualidade_do_Ar_em_Portugal_EEA/qualidade_do_ar.csv\""
   ]
  },
  {
   "cell_type": "code",
   "execution_count": null,
   "id": "ee2a5f31-0346-4f44-8fcd-055ce3f9d8be",
   "metadata": {},
   "outputs": [],
   "source": [
    "df = pd.read_csv(DATA, index_col=0)\n",
    "df[\"cidade\"] = df[\"cidade\"].str.strip()"
   ]
  },
  {
   "cell_type": "code",
   "execution_count": null,
   "id": "9d418bc3-dafe-4a71-9623-500539d55f66",
   "metadata": {},
   "outputs": [],
   "source": [
    "cols = [\n",
    "    \"cidade\",\n",
    "    \"poluente\",\n",
    "    \"metrica\",\n",
    "    \"nome_estacao\",\n",
    "    \"ano\",\n",
    "    \"nível_de_poluicao\",\n",
    "    \"indice_qualidade_do_ar\",\n",
    "]\n",
    "\n",
    "df_lx = df.query(\n",
    "    \"cidade == 'Lisboa (greater city)' & poluente == 'O3' & metrica == 'Média anual' & nome_estacao == 'Beato'\"\n",
    ").sort_values(by=\"ano\")[cols]"
   ]
  },
  {
   "cell_type": "code",
   "execution_count": null,
   "id": "b6c8530c-7ee4-4914-8be5-5315467359f8",
   "metadata": {},
   "outputs": [],
   "source": [
    "df_lx[\"ano\"].nunique() == (df_lx[\"ano\"].max() - df_lx[\"ano\"].min() + 1)"
   ]
  },
  {
   "cell_type": "code",
   "execution_count": null,
   "id": "606e9a35-5bf3-4037-9bf0-2ae9e6470e0b",
   "metadata": {},
   "outputs": [],
   "source": [
    "alt.Chart(df_lx).mark_line(tooltip=True).encode(\n",
    "    x=alt.X(\"ano:O\"), y=alt.Y(\"nível_de_poluicao:Q\")\n",
    ").configure_axis(labelFont=\"Arial\")"
   ]
  },
  {
   "cell_type": "markdown",
   "id": "8cdf4637-1e4f-4dd7-a6fc-6e54b89204d8",
   "metadata": {},
   "source": [
    "---"
   ]
  }
 ],
 "metadata": {
  "kernelspec": {
   "display_name": "Python 3 (ipykernel)",
   "language": "python",
   "name": "python3"
  },
  "language_info": {
   "codemirror_mode": {
    "name": "ipython",
    "version": 3
   },
   "file_extension": ".py",
   "mimetype": "text/x-python",
   "name": "python",
   "nbconvert_exporter": "python",
   "pygments_lexer": "ipython3",
   "version": "3.7.12"
  }
 },
 "nbformat": 4,
 "nbformat_minor": 5
}
