{
 "cells": [
  {
   "cell_type": "code",
   "execution_count": null,
   "id": "a5fa9c4e-3742-4e63-a317-476f7ac3e127",
   "metadata": {},
   "outputs": [],
   "source": [
    "import altair as alt\n",
    "import pandas as pd"
   ]
  },
  {
   "cell_type": "markdown",
   "id": "47a6ba53-2546-4399-a4e3-fe9ce29dccba",
   "metadata": {},
   "source": [
    "- https://altair-viz.github.io/user_guide/configuration.html\n",
    "- https://qualar.apambiente.pt/node/metodo-calculo-indices\n",
    "- https://github.com/altair-viz/altair/issues/2176#issuecomment-633679510"
   ]
  },
  {
   "cell_type": "code",
   "execution_count": null,
   "id": "93de6d67-9c5f-4377-b468-891f200b61d0",
   "metadata": {},
   "outputs": [],
   "source": [
    "DATA: str = \"https://raw.githubusercontent.com/dssgPT/Plotting-Good-DSSG/main/desafios/002_Qualidade_do_Ar_em_Portugal_EEA/qualidade_do_ar.csv\""
   ]
  },
  {
   "cell_type": "code",
   "execution_count": null,
   "id": "ee2a5f31-0346-4f44-8fcd-055ce3f9d8be",
   "metadata": {},
   "outputs": [],
   "source": [
    "df = pd.read_csv(DATA, index_col=0)\n",
    "df[\"cidade\"] = df[\"cidade\"].str.strip()"
   ]
  },
  {
   "cell_type": "code",
   "execution_count": null,
   "id": "9d418bc3-dafe-4a71-9623-500539d55f66",
   "metadata": {},
   "outputs": [],
   "source": [
    "cols = [\n",
    "    \"cidade\",\n",
    "    \"poluente\",\n",
    "    \"metrica\",\n",
    "    \"nome_estacao\",\n",
    "    \"ano\",\n",
    "    \"nível_de_poluicao\",\n",
    "    \"indice_qualidade_do_ar\",\n",
    "]\n",
    "\n",
    "df_lx = df.query(\n",
    "    \"cidade == 'Lisboa (greater city)' & poluente == 'O3' & metrica == 'Média anual' & nome_estacao == 'Entrecampos'\"\n",
    ").sort_values(by=\"ano\")[cols]"
   ]
  },
  {
   "cell_type": "code",
   "execution_count": null,
   "id": "55f8cf44-e520-4030-a5a4-d96498e951cb",
   "metadata": {},
   "outputs": [],
   "source": [
    "df_lx.head()"
   ]
  },
  {
   "cell_type": "code",
   "execution_count": null,
   "id": "b6c8530c-7ee4-4914-8be5-5315467359f8",
   "metadata": {},
   "outputs": [],
   "source": [
    "df_lx[\"ano\"].nunique() == (df_lx[\"ano\"].max() - df_lx[\"ano\"].min() + 1)"
   ]
  },
  {
   "cell_type": "markdown",
   "id": "b814f9d1-7cec-4114-a9d9-ff6a7f8e24fc",
   "metadata": {},
   "source": [
    "| Classificação |   PM10   |  PM2.5 |    NO2   |    O3   |    SO2   |\n",
    "|---------------|:--------:|:------:|:--------:|:-------:|:--------:|\n",
    "| Muito Bom     |   0-20   |  0-10  |   0-40   |   0-80  |   0-100  |\n",
    "| Bom           |   21-35  |  11-20 |  41-100  |  81-100 |  101-200 |\n",
    "| Médio         |   36-50  |  21-25 |  101-200 | 101-180 |  201-350 |\n",
    "| Fraco         |  51-100  |  26-50 |  201-400 | 181-240 |  351-500 |\n",
    "| Mau           | 101-1200 | 51-800 | 401-1000 | 241-600 | 501-1250 |"
   ]
  },
  {
   "cell_type": "code",
   "execution_count": null,
   "id": "606e9a35-5bf3-4037-9bf0-2ae9e6470e0b",
   "metadata": {},
   "outputs": [],
   "source": [
    "base = alt.Chart(df_lx).encode(\n",
    "    x=alt.X(\"ano:O\", axis=alt.Axis(title=None)),\n",
    "    y=alt.Y(\n",
    "        \"nível_de_poluicao:Q\",\n",
    "        axis=alt.Axis(title=None),\n",
    "        scale=alt.Scale(domain=[0, 80]),\n",
    "    ),\n",
    ")\n",
    "\n",
    "line = base.mark_line()\n",
    "\n",
    "point = base.mark_circle(tooltip=True, size=60).encode(\n",
    "    color=alt.condition(\n",
    "        (alt.datum[\"nível_de_poluicao\"] == df_lx[\"nível_de_poluicao\"].max())\n",
    "        | (alt.datum[\"nível_de_poluicao\"] == df_lx[\"nível_de_poluicao\"].min()),\n",
    "        alt.value(\"red\"),\n",
    "        alt.value(\"blue\"),\n",
    "    )\n",
    ")\n",
    "\n",
    "(line + point).configure_axis(labelFont=\"Arial\", labelFontSize=12)"
   ]
  },
  {
   "cell_type": "markdown",
   "id": "8cdf4637-1e4f-4dd7-a6fc-6e54b89204d8",
   "metadata": {},
   "source": [
    "---"
   ]
  }
 ],
 "metadata": {
  "kernelspec": {
   "display_name": "Python 3 (ipykernel)",
   "language": "python",
   "name": "python3"
  },
  "language_info": {
   "codemirror_mode": {
    "name": "ipython",
    "version": 3
   },
   "file_extension": ".py",
   "mimetype": "text/x-python",
   "name": "python",
   "nbconvert_exporter": "python",
   "pygments_lexer": "ipython3",
   "version": "3.7.12"
  }
 },
 "nbformat": 4,
 "nbformat_minor": 5
}
