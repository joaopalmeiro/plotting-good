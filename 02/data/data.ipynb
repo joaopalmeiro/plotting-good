{
 "cells": [
  {
   "cell_type": "code",
   "execution_count": null,
   "id": "17a09638-6e87-4e93-b792-691f25133cdf",
   "metadata": {},
   "outputs": [],
   "source": [
    "import pandas as pd"
   ]
  },
  {
   "cell_type": "markdown",
   "id": "625de098-541d-4ca6-94ba-241662ea04aa",
   "metadata": {},
   "source": [
    "- https://github.com/dssgPT/Plotting-Good-DSSG/tree/main/desafios/002_Qualidade_do_Ar_em_Portugal_EEA"
   ]
  },
  {
   "cell_type": "code",
   "execution_count": null,
   "id": "cd0ddc49-6ec2-46b6-96cc-94e2587762ad",
   "metadata": {},
   "outputs": [],
   "source": [
    "DATA: str = \"https://raw.githubusercontent.com/dssgPT/Plotting-Good-DSSG/main/desafios/002_Qualidade_do_Ar_em_Portugal_EEA/qualidade_do_ar.csv\""
   ]
  },
  {
   "cell_type": "code",
   "execution_count": null,
   "id": "10b946d1-6d13-4d08-9edb-632e74edd772",
   "metadata": {},
   "outputs": [],
   "source": [
    "df = pd.read_csv(DATA, index_col=0)"
   ]
  },
  {
   "cell_type": "code",
   "execution_count": null,
   "id": "a1c1dfcf-7327-438c-b4ea-bf6c0a28c888",
   "metadata": {},
   "outputs": [],
   "source": [
    "df.head()"
   ]
  },
  {
   "cell_type": "code",
   "execution_count": null,
   "id": "41737f2e-ccb5-47c1-a0cd-e9b753ce3f2e",
   "metadata": {},
   "outputs": [],
   "source": [
    "df[\"nome_estacao\"].nunique()"
   ]
  },
  {
   "cell_type": "code",
   "execution_count": null,
   "id": "c8ccde90-c5b8-4421-b0ea-c609f07d1cb4",
   "metadata": {},
   "outputs": [],
   "source": [
    "df[\"cidade\"].nunique()"
   ]
  },
  {
   "cell_type": "code",
   "execution_count": null,
   "id": "998a7d5d-d652-4047-a61a-9973f130e076",
   "metadata": {},
   "outputs": [],
   "source": [
    "df[\"nome_estacao\"].value_counts(dropna=False)"
   ]
  },
  {
   "cell_type": "code",
   "execution_count": null,
   "id": "017233c6-ce0d-40e4-851f-79701d91db4c",
   "metadata": {},
   "outputs": [],
   "source": [
    "df[\"cidade\"].value_counts(dropna=False)"
   ]
  },
  {
   "cell_type": "markdown",
   "id": "869c76b7-f501-4f4e-8285-a4768de53a60",
   "metadata": {},
   "source": [
    "---"
   ]
  }
 ],
 "metadata": {
  "kernelspec": {
   "display_name": "Python 3 (ipykernel)",
   "language": "python",
   "name": "python3"
  },
  "language_info": {
   "codemirror_mode": {
    "name": "ipython",
    "version": 3
   },
   "file_extension": ".py",
   "mimetype": "text/x-python",
   "name": "python",
   "nbconvert_exporter": "python",
   "pygments_lexer": "ipython3",
   "version": "3.7.12"
  }
 },
 "nbformat": 4,
 "nbformat_minor": 5
}
