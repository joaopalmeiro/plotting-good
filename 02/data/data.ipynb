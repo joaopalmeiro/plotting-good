{
 "cells": [
  {
   "cell_type": "code",
   "execution_count": null,
   "id": "17a09638-6e87-4e93-b792-691f25133cdf",
   "metadata": {},
   "outputs": [],
   "source": [
    "import pandas as pd"
   ]
  },
  {
   "cell_type": "markdown",
   "id": "625de098-541d-4ca6-94ba-241662ea04aa",
   "metadata": {},
   "source": [
    "- https://github.com/dssgPT/Plotting-Good-DSSG/tree/main/desafios/002_Qualidade_do_Ar_em_Portugal_EEA\n",
    "- https://qualar.apambiente.pt/node/metodo-calculo-indices\n",
    "- https://pandas.pydata.org/docs/reference/api/pandas.DataFrame.to_clipboard.html"
   ]
  },
  {
   "cell_type": "code",
   "execution_count": null,
   "id": "cd0ddc49-6ec2-46b6-96cc-94e2587762ad",
   "metadata": {},
   "outputs": [],
   "source": [
    "DATA: str = \"https://raw.githubusercontent.com/dssgPT/Plotting-Good-DSSG/main/desafios/002_Qualidade_do_Ar_em_Portugal_EEA/qualidade_do_ar.csv\""
   ]
  },
  {
   "cell_type": "code",
   "execution_count": null,
   "id": "10b946d1-6d13-4d08-9edb-632e74edd772",
   "metadata": {},
   "outputs": [],
   "source": [
    "df = pd.read_csv(DATA, index_col=0)"
   ]
  },
  {
   "cell_type": "code",
   "execution_count": null,
   "id": "4d516e0a-4ab5-48b4-acd8-64ba1186ca6e",
   "metadata": {},
   "outputs": [],
   "source": [
    "df[\"cidade\"] = df[\"cidade\"].str.strip()"
   ]
  },
  {
   "cell_type": "code",
   "execution_count": null,
   "id": "a1c1dfcf-7327-438c-b4ea-bf6c0a28c888",
   "metadata": {},
   "outputs": [],
   "source": [
    "df.head()"
   ]
  },
  {
   "cell_type": "code",
   "execution_count": null,
   "id": "41737f2e-ccb5-47c1-a0cd-e9b753ce3f2e",
   "metadata": {},
   "outputs": [],
   "source": [
    "df[\"nome_estacao\"].nunique()"
   ]
  },
  {
   "cell_type": "code",
   "execution_count": null,
   "id": "c8ccde90-c5b8-4421-b0ea-c609f07d1cb4",
   "metadata": {},
   "outputs": [],
   "source": [
    "df[\"cidade\"].nunique()"
   ]
  },
  {
   "cell_type": "code",
   "execution_count": null,
   "id": "998a7d5d-d652-4047-a61a-9973f130e076",
   "metadata": {},
   "outputs": [],
   "source": [
    "df[\"nome_estacao\"].value_counts(dropna=False)"
   ]
  },
  {
   "cell_type": "code",
   "execution_count": null,
   "id": "3e4c588a-7763-4364-ac36-0e6a786e8f7d",
   "metadata": {},
   "outputs": [],
   "source": [
    "df[\"nome_estacao\"].unique()"
   ]
  },
  {
   "cell_type": "code",
   "execution_count": null,
   "id": "b2324394-fe24-43f6-b9f4-0590cc09afa8",
   "metadata": {},
   "outputs": [],
   "source": [
    "df[\"cidade\"].unique()"
   ]
  },
  {
   "cell_type": "code",
   "execution_count": null,
   "id": "017233c6-ce0d-40e4-851f-79701d91db4c",
   "metadata": {},
   "outputs": [],
   "source": [
    "df[\"cidade\"].value_counts(dropna=False)"
   ]
  },
  {
   "cell_type": "code",
   "execution_count": null,
   "id": "fc6b016a-043f-4474-93c2-425f473efcd8",
   "metadata": {},
   "outputs": [],
   "source": [
    "df.query(\"cidade == 'Lisboa (greater city)'\")[\"nome_estacao\"].unique()"
   ]
  },
  {
   "cell_type": "code",
   "execution_count": null,
   "id": "68b4302d-425a-452f-9098-71c1a3a0597c",
   "metadata": {},
   "outputs": [],
   "source": [
    "df[\"poluente\"].value_counts(dropna=False)"
   ]
  },
  {
   "cell_type": "code",
   "execution_count": null,
   "id": "488d5263-0d67-45b8-9de4-a0536089417c",
   "metadata": {},
   "outputs": [],
   "source": [
    "df[\"metrica\"].value_counts(dropna=False)"
   ]
  },
  {
   "cell_type": "code",
   "execution_count": null,
   "id": "d90287a6-38bf-48a8-aa6c-ecde47af9f3b",
   "metadata": {},
   "outputs": [],
   "source": [
    "df[\"unidade_de_nivel_de_poluicao\"].unique()"
   ]
  },
  {
   "cell_type": "code",
   "execution_count": null,
   "id": "de146ca0-d84b-48ce-9e00-084d035ff79a",
   "metadata": {},
   "outputs": [],
   "source": [
    "cols = [\n",
    "    \"cidade\",\n",
    "    \"poluente\",\n",
    "    \"metrica\",\n",
    "    \"nome_estacao\",\n",
    "    \"ano\",\n",
    "    \"nível_de_poluicao\",\n",
    "    \"indice_qualidade_do_ar\",\n",
    "]\n",
    "\n",
    "df_lx = df.query(\n",
    "    \"cidade == 'Lisboa (greater city)' & poluente == 'O3' & metrica == 'Média anual'\"\n",
    ").sort_values(by=\"ano\")[cols]\n",
    "df_lx.head()"
   ]
  },
  {
   "cell_type": "code",
   "execution_count": null,
   "id": "8098a90e-0246-4fcd-b32b-a555654c1e1f",
   "metadata": {},
   "outputs": [],
   "source": [
    "df_lx[\"indice_qualidade_do_ar\"].value_counts(dropna=False)"
   ]
  },
  {
   "cell_type": "code",
   "execution_count": null,
   "id": "e62e5b22-633f-406a-ba94-d99c281647f9",
   "metadata": {},
   "outputs": [],
   "source": [
    "df_lx.to_clipboard(excel=True, sep=\",\", index=False)"
   ]
  },
  {
   "cell_type": "markdown",
   "id": "869c76b7-f501-4f4e-8285-a4768de53a60",
   "metadata": {},
   "source": [
    "---"
   ]
  }
 ],
 "metadata": {
  "kernelspec": {
   "display_name": "Python 3 (ipykernel)",
   "language": "python",
   "name": "python3"
  },
  "language_info": {
   "codemirror_mode": {
    "name": "ipython",
    "version": 3
   },
   "file_extension": ".py",
   "mimetype": "text/x-python",
   "name": "python",
   "nbconvert_exporter": "python",
   "pygments_lexer": "ipython3",
   "version": "3.7.12"
  }
 },
 "nbformat": 4,
 "nbformat_minor": 5
}
