{
 "cells": [
  {
   "cell_type": "code",
   "execution_count": null,
   "id": "2e8c1a7a-d5eb-47ad-b2cb-4f5ebefe8798",
   "metadata": {},
   "outputs": [],
   "source": [
    "import altair as alt\n",
    "import pandas as pd"
   ]
  },
  {
   "cell_type": "markdown",
   "id": "7310b7fd-bd33-4aa3-8f06-4ad4d1d22c59",
   "metadata": {},
   "source": [
    "- https://altair-viz.github.io/gallery/line_chart_with_datum.html\n",
    "- https://altair-viz.github.io/gallery/falkensee.html\n",
    "- https://www.radix-ui.com/docs/colors/palette-composition/the-scales"
   ]
  },
  {
   "cell_type": "code",
   "execution_count": null,
   "id": "b4041479-31f9-4b2c-8206-08e14de6819c",
   "metadata": {},
   "outputs": [],
   "source": [
    "alt.renderers.set_embed_options(renderer=\"svg\")"
   ]
  },
  {
   "cell_type": "code",
   "execution_count": null,
   "id": "0ac7c5ca-737d-4269-b75e-93f1101abc98",
   "metadata": {},
   "outputs": [],
   "source": [
    "DATA: str = \"https://raw.githubusercontent.com/dssgPT/Plotting-Good-DSSG/main/desafios/002_Qualidade_do_Ar_em_Portugal_EEA/qualidade_do_ar.csv\""
   ]
  },
  {
   "cell_type": "code",
   "execution_count": null,
   "id": "3c7f2e0f-a60c-491a-977c-ada98e8dfce3",
   "metadata": {},
   "outputs": [],
   "source": [
    "df = pd.read_csv(DATA, index_col=0)\n",
    "df[\"cidade\"] = df[\"cidade\"].str.strip()"
   ]
  },
  {
   "cell_type": "code",
   "execution_count": null,
   "id": "cc30ddca-bff7-4b29-b4c6-ca32b41dbcad",
   "metadata": {},
   "outputs": [],
   "source": [
    "df[\"cidade\"].unique()"
   ]
  },
  {
   "cell_type": "code",
   "execution_count": null,
   "id": "37e0fbcb-1057-4626-a528-7103483c51be",
   "metadata": {},
   "outputs": [],
   "source": [
    "cols = [\n",
    "    \"cidade\",\n",
    "    \"poluente\",\n",
    "    \"unidade_de_nivel_de_poluicao\",\n",
    "    \"metrica\",\n",
    "    \"nome_estacao\",\n",
    "    \"ano\",\n",
    "    \"nível_de_poluicao\",\n",
    "]\n",
    "\n",
    "poluente = \"O3\"\n",
    "poluente_domain = [0, 80]\n",
    "\n",
    "# cidade = \"Lisboa (greater city)\"\n",
    "cidade = \"Porto (greater city)\"\n",
    "\n",
    "# https://www.lisboa.pt/municipio/camara-municipal/identidade-grafica\n",
    "# city_color = \"#000000\"\n",
    "# https://www.cm-porto.pt/marca-porto/marca-porto\n",
    "city_color = \"rgb(15,47,127)\"\n",
    "\n",
    "df_cities = df.query(\n",
    "    \"poluente == @poluente & metrica == 'Média anual' & cidade == @cidade\"\n",
    ").sort_values(by=[\"ano\", \"nome_estacao\"])[cols]"
   ]
  },
  {
   "cell_type": "code",
   "execution_count": null,
   "id": "817cbc74-64de-4c3c-8b35-eba6ea9c876b",
   "metadata": {},
   "outputs": [],
   "source": [
    "df_cities.head()"
   ]
  },
  {
   "cell_type": "code",
   "execution_count": null,
   "id": "ee188271-e7af-429a-b45a-76c32c71c96e",
   "metadata": {},
   "outputs": [],
   "source": [
    "df_cities[\"nome_estacao\"].value_counts(dropna=False)"
   ]
  },
  {
   "cell_type": "code",
   "execution_count": null,
   "id": "aa9844b4-7ccc-4d65-9c38-15cdc8c68253",
   "metadata": {},
   "outputs": [],
   "source": [
    "max_value = df_cities[\"nível_de_poluicao\"].max()\n",
    "max_value"
   ]
  },
  {
   "cell_type": "code",
   "execution_count": null,
   "id": "7d6363e4-d7cc-43a8-998a-ad9f57a3e3f8",
   "metadata": {},
   "outputs": [],
   "source": [
    "min_value = df_cities[\"nível_de_poluicao\"].min()\n",
    "min_value"
   ]
  },
  {
   "cell_type": "code",
   "execution_count": null,
   "id": "699d9a74-bd47-49b4-93b0-91611e9f110d",
   "metadata": {},
   "outputs": [],
   "source": [
    "df_cities[df_cities[\"nível_de_poluicao\"] == max_value]"
   ]
  },
  {
   "cell_type": "code",
   "execution_count": null,
   "id": "c83871a4-493d-4133-b3cd-ecc605d4f205",
   "metadata": {},
   "outputs": [],
   "source": [
    "df_cities[df_cities[\"nível_de_poluicao\"] == min_value]"
   ]
  },
  {
   "cell_type": "code",
   "execution_count": null,
   "id": "ecb8ec4e-8d1c-4563-aad3-bbcb74f5c577",
   "metadata": {},
   "outputs": [],
   "source": [
    "# df_cities[\"ano\"] = pd.to_datetime(df_cities[\"ano\"], format=\"%Y\")"
   ]
  },
  {
   "cell_type": "code",
   "execution_count": null,
   "id": "12c9844d-1d23-4802-af31-c903bf9a9685",
   "metadata": {},
   "outputs": [],
   "source": [
    "FONT: str = \"Rubik\""
   ]
  },
  {
   "cell_type": "code",
   "execution_count": null,
   "id": "671415ff-c85b-4992-bdb3-2c0a4013c053",
   "metadata": {},
   "outputs": [],
   "source": [
    "years = range(df_cities[\"ano\"].min(), df_cities[\"ano\"].max() + 1)\n",
    "\n",
    "df_bg = pd.DataFrame([{\"ano\": year} for year in years])\n",
    "\n",
    "df_bg.head()"
   ]
  },
  {
   "cell_type": "code",
   "execution_count": null,
   "id": "04963da1-d937-4345-a58d-fd94768ff0f1",
   "metadata": {},
   "outputs": [],
   "source": [
    "base = alt.Chart(df_cities)\n",
    "\n",
    "ticks = base.mark_tick(color=city_color, opacity=1).encode(\n",
    "    x=alt.X(\n",
    "        \"ano:O\",\n",
    "        axis=alt.Axis(\n",
    "            title=None,\n",
    "            labelExpr=\"substring(datum.label, 2, 4)\",\n",
    "            labelAngle=0,\n",
    "            labelAlign=\"center\",\n",
    "        ),\n",
    "        scale=alt.Scale(domain=list(range(df[\"ano\"].min(), df[\"ano\"].max() + 1))),\n",
    "    ),\n",
    "    y=alt.Y(\n",
    "        \"nível_de_poluicao:Q\",\n",
    "        scale=alt.Scale(domain=poluente_domain),\n",
    "        axis=alt.Axis(title=None, domain=False),\n",
    "    ),\n",
    ")\n",
    "\n",
    "max_line = base.mark_rule(color=\"red\").encode(y=alt.datum(max_value))\n",
    "min_line = base.mark_rule(color=\"red\").encode(y=alt.datum(min_value))\n",
    "\n",
    "bg = (\n",
    "    alt.Chart(df_bg)\n",
    "    .mark_rect()\n",
    "    .encode(\n",
    "        x=alt.X(\"ano:O\"),\n",
    "        color=alt.Color(\n",
    "            \"ano:N\", legend=None, scale=alt.Scale(range=[\"lightgray\", \"white\"])\n",
    "        ),\n",
    "    )\n",
    ")\n",
    "\n",
    "(bg + max_line + min_line + ticks).properties(title=cidade).configure_view(\n",
    "    strokeWidth=0\n",
    ").configure_axis(labelFont=FONT)"
   ]
  },
  {
   "cell_type": "markdown",
   "id": "2cef05aa-a31e-435b-af2e-1246901f3356",
   "metadata": {},
   "source": [
    "---"
   ]
  }
 ],
 "metadata": {
  "kernelspec": {
   "display_name": "Python 3 (ipykernel)",
   "language": "python",
   "name": "python3"
  },
  "language_info": {
   "codemirror_mode": {
    "name": "ipython",
    "version": 3
   },
   "file_extension": ".py",
   "mimetype": "text/x-python",
   "name": "python",
   "nbconvert_exporter": "python",
   "pygments_lexer": "ipython3",
   "version": "3.7.12"
  }
 },
 "nbformat": 4,
 "nbformat_minor": 5
}
