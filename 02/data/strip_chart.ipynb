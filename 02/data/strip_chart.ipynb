{
 "cells": [
  {
   "cell_type": "code",
   "execution_count": null,
   "id": "2e8c1a7a-d5eb-47ad-b2cb-4f5ebefe8798",
   "metadata": {},
   "outputs": [],
   "source": [
    "import altair as alt\n",
    "import pandas as pd"
   ]
  },
  {
   "cell_type": "markdown",
   "id": "7310b7fd-bd33-4aa3-8f06-4ad4d1d22c59",
   "metadata": {},
   "source": [
    "- https://altair-viz.github.io/gallery/line_chart_with_datum.html\n",
    "- https://altair-viz.github.io/gallery/falkensee.html\n",
    "- https://www.radix-ui.com/docs/colors/palette-composition/the-scales"
   ]
  },
  {
   "cell_type": "code",
   "execution_count": null,
   "id": "b4041479-31f9-4b2c-8206-08e14de6819c",
   "metadata": {},
   "outputs": [],
   "source": [
    "alt.renderers.set_embed_options(renderer=\"svg\")"
   ]
  },
  {
   "cell_type": "code",
   "execution_count": null,
   "id": "0ac7c5ca-737d-4269-b75e-93f1101abc98",
   "metadata": {},
   "outputs": [],
   "source": [
    "DATA: str = \"https://raw.githubusercontent.com/dssgPT/Plotting-Good-DSSG/main/desafios/002_Qualidade_do_Ar_em_Portugal_EEA/qualidade_do_ar.csv\""
   ]
  },
  {
   "cell_type": "code",
   "execution_count": null,
   "id": "3c7f2e0f-a60c-491a-977c-ada98e8dfce3",
   "metadata": {},
   "outputs": [],
   "source": [
    "df = pd.read_csv(DATA, index_col=0)\n",
    "df[\"cidade\"] = df[\"cidade\"].str.strip()"
   ]
  },
  {
   "cell_type": "code",
   "execution_count": null,
   "id": "cc30ddca-bff7-4b29-b4c6-ca32b41dbcad",
   "metadata": {},
   "outputs": [],
   "source": [
    "df[\"cidade\"].unique()"
   ]
  },
  {
   "cell_type": "code",
   "execution_count": 21,
   "id": "37e0fbcb-1057-4626-a528-7103483c51be",
   "metadata": {},
   "outputs": [],
   "source": [
    "cols = [\n",
    "    \"cidade\",\n",
    "    \"poluente\",\n",
    "    \"unidade_de_nivel_de_poluicao\",\n",
    "    \"metrica\",\n",
    "    \"nome_estacao\",\n",
    "    \"ano\",\n",
    "    \"nível_de_poluicao\",\n",
    "]\n",
    "\n",
    "poluente = \"O3\"\n",
    "poluente_domain = [0, 80]\n",
    "\n",
    "# cidade = \"Lisboa (greater city)\"\n",
    "cidade = \"Porto (greater city)\"\n",
    "\n",
    "# https://www.lisboa.pt/municipio/camara-municipal/identidade-grafica\n",
    "# city_color = \"#000000\"\n",
    "# https://www.cm-porto.pt/marca-porto/marca-porto\n",
    "city_color = \"rgb(15,47,127)\"\n",
    "\n",
    "df_cities = df.query(\n",
    "    \"poluente == @poluente & metrica == 'Média anual' & cidade == @cidade\"\n",
    ").sort_values(by=[\"ano\", \"nome_estacao\"])[cols]"
   ]
  },
  {
   "cell_type": "code",
   "execution_count": 22,
   "id": "817cbc74-64de-4c3c-8b35-eba6ea9c876b",
   "metadata": {},
   "outputs": [
    {
     "data": {
      "text/html": [
       "<div>\n",
       "<style scoped>\n",
       "    .dataframe tbody tr th:only-of-type {\n",
       "        vertical-align: middle;\n",
       "    }\n",
       "\n",
       "    .dataframe tbody tr th {\n",
       "        vertical-align: top;\n",
       "    }\n",
       "\n",
       "    .dataframe thead th {\n",
       "        text-align: right;\n",
       "    }\n",
       "</style>\n",
       "<table border=\"1\" class=\"dataframe\">\n",
       "  <thead>\n",
       "    <tr style=\"text-align: right;\">\n",
       "      <th></th>\n",
       "      <th>cidade</th>\n",
       "      <th>poluente</th>\n",
       "      <th>unidade_de_nivel_de_poluicao</th>\n",
       "      <th>metrica</th>\n",
       "      <th>nome_estacao</th>\n",
       "      <th>ano</th>\n",
       "      <th>nível_de_poluicao</th>\n",
       "    </tr>\n",
       "  </thead>\n",
       "  <tbody>\n",
       "    <tr>\n",
       "      <th>2631</th>\n",
       "      <td>Porto (greater city)</td>\n",
       "      <td>O3</td>\n",
       "      <td>ug/m3</td>\n",
       "      <td>Média anual</td>\n",
       "      <td>Custóias-Matosinhos</td>\n",
       "      <td>1999</td>\n",
       "      <td>37.371</td>\n",
       "    </tr>\n",
       "    <tr>\n",
       "      <th>1070</th>\n",
       "      <td>Porto (greater city)</td>\n",
       "      <td>O3</td>\n",
       "      <td>ug/m3</td>\n",
       "      <td>Média anual</td>\n",
       "      <td>Ermesinde-Valongo</td>\n",
       "      <td>1999</td>\n",
       "      <td>32.249</td>\n",
       "    </tr>\n",
       "    <tr>\n",
       "      <th>3532</th>\n",
       "      <td>Porto (greater city)</td>\n",
       "      <td>O3</td>\n",
       "      <td>ug/m3</td>\n",
       "      <td>Média anual</td>\n",
       "      <td>Custóias-Matosinhos</td>\n",
       "      <td>2000</td>\n",
       "      <td>37.434</td>\n",
       "    </tr>\n",
       "    <tr>\n",
       "      <th>1341</th>\n",
       "      <td>Porto (greater city)</td>\n",
       "      <td>O3</td>\n",
       "      <td>ug/m3</td>\n",
       "      <td>Média anual</td>\n",
       "      <td>Ermesinde-Valongo</td>\n",
       "      <td>2000</td>\n",
       "      <td>35.325</td>\n",
       "    </tr>\n",
       "    <tr>\n",
       "      <th>3623</th>\n",
       "      <td>Porto (greater city)</td>\n",
       "      <td>O3</td>\n",
       "      <td>ug/m3</td>\n",
       "      <td>Média anual</td>\n",
       "      <td>Leça do Balio-Matosinhos</td>\n",
       "      <td>2000</td>\n",
       "      <td>31.986</td>\n",
       "    </tr>\n",
       "  </tbody>\n",
       "</table>\n",
       "</div>"
      ],
      "text/plain": [
       "                    cidade poluente unidade_de_nivel_de_poluicao      metrica  \\\n",
       "2631  Porto (greater city)       O3                        ug/m3  Média anual   \n",
       "1070  Porto (greater city)       O3                        ug/m3  Média anual   \n",
       "3532  Porto (greater city)       O3                        ug/m3  Média anual   \n",
       "1341  Porto (greater city)       O3                        ug/m3  Média anual   \n",
       "3623  Porto (greater city)       O3                        ug/m3  Média anual   \n",
       "\n",
       "                  nome_estacao   ano  nível_de_poluicao  \n",
       "2631       Custóias-Matosinhos  1999             37.371  \n",
       "1070         Ermesinde-Valongo  1999             32.249  \n",
       "3532       Custóias-Matosinhos  2000             37.434  \n",
       "1341         Ermesinde-Valongo  2000             35.325  \n",
       "3623  Leça do Balio-Matosinhos  2000             31.986  "
      ]
     },
     "execution_count": 22,
     "metadata": {},
     "output_type": "execute_result"
    }
   ],
   "source": [
    "df_cities.head()"
   ]
  },
  {
   "cell_type": "code",
   "execution_count": 23,
   "id": "ee188271-e7af-429a-b45a-76c32c71c96e",
   "metadata": {},
   "outputs": [
    {
     "data": {
      "text/plain": [
       "Ermesinde-Valongo            22\n",
       "Leça do Balio-Matosinhos     19\n",
       "Custóias-Matosinhos          17\n",
       "Meco-Perafita                16\n",
       "Sobreiras-Lordelo do Ouro    14\n",
       "Avintes                      12\n",
       "Name: nome_estacao, dtype: int64"
      ]
     },
     "execution_count": 23,
     "metadata": {},
     "output_type": "execute_result"
    }
   ],
   "source": [
    "df_cities[\"nome_estacao\"].value_counts(dropna=False)"
   ]
  },
  {
   "cell_type": "code",
   "execution_count": 24,
   "id": "aa9844b4-7ccc-4d65-9c38-15cdc8c68253",
   "metadata": {},
   "outputs": [
    {
     "data": {
      "text/plain": [
       "63.418"
      ]
     },
     "execution_count": 24,
     "metadata": {},
     "output_type": "execute_result"
    }
   ],
   "source": [
    "max_value = df_cities[\"nível_de_poluicao\"].max()\n",
    "max_value"
   ]
  },
  {
   "cell_type": "code",
   "execution_count": 25,
   "id": "7d6363e4-d7cc-43a8-998a-ad9f57a3e3f8",
   "metadata": {},
   "outputs": [
    {
     "data": {
      "text/plain": [
       "25.095"
      ]
     },
     "execution_count": 25,
     "metadata": {},
     "output_type": "execute_result"
    }
   ],
   "source": [
    "min_value = df_cities[\"nível_de_poluicao\"].min()\n",
    "min_value"
   ]
  },
  {
   "cell_type": "code",
   "execution_count": 26,
   "id": "699d9a74-bd47-49b4-93b0-91611e9f110d",
   "metadata": {},
   "outputs": [
    {
     "data": {
      "text/html": [
       "<div>\n",
       "<style scoped>\n",
       "    .dataframe tbody tr th:only-of-type {\n",
       "        vertical-align: middle;\n",
       "    }\n",
       "\n",
       "    .dataframe tbody tr th {\n",
       "        vertical-align: top;\n",
       "    }\n",
       "\n",
       "    .dataframe thead th {\n",
       "        text-align: right;\n",
       "    }\n",
       "</style>\n",
       "<table border=\"1\" class=\"dataframe\">\n",
       "  <thead>\n",
       "    <tr style=\"text-align: right;\">\n",
       "      <th></th>\n",
       "      <th>cidade</th>\n",
       "      <th>poluente</th>\n",
       "      <th>unidade_de_nivel_de_poluicao</th>\n",
       "      <th>metrica</th>\n",
       "      <th>nome_estacao</th>\n",
       "      <th>ano</th>\n",
       "      <th>nível_de_poluicao</th>\n",
       "    </tr>\n",
       "  </thead>\n",
       "  <tbody>\n",
       "    <tr>\n",
       "      <th>2071</th>\n",
       "      <td>Porto (greater city)</td>\n",
       "      <td>O3</td>\n",
       "      <td>ug/m3</td>\n",
       "      <td>Média anual</td>\n",
       "      <td>Ermesinde-Valongo</td>\n",
       "      <td>2021</td>\n",
       "      <td>63.418</td>\n",
       "    </tr>\n",
       "  </tbody>\n",
       "</table>\n",
       "</div>"
      ],
      "text/plain": [
       "                    cidade poluente unidade_de_nivel_de_poluicao      metrica  \\\n",
       "2071  Porto (greater city)       O3                        ug/m3  Média anual   \n",
       "\n",
       "           nome_estacao   ano  nível_de_poluicao  \n",
       "2071  Ermesinde-Valongo  2021             63.418  "
      ]
     },
     "execution_count": 26,
     "metadata": {},
     "output_type": "execute_result"
    }
   ],
   "source": [
    "df_cities[df_cities[\"nível_de_poluicao\"] == max_value]"
   ]
  },
  {
   "cell_type": "code",
   "execution_count": 27,
   "id": "c83871a4-493d-4133-b3cd-ecc605d4f205",
   "metadata": {},
   "outputs": [
    {
     "data": {
      "text/html": [
       "<div>\n",
       "<style scoped>\n",
       "    .dataframe tbody tr th:only-of-type {\n",
       "        vertical-align: middle;\n",
       "    }\n",
       "\n",
       "    .dataframe tbody tr th {\n",
       "        vertical-align: top;\n",
       "    }\n",
       "\n",
       "    .dataframe thead th {\n",
       "        text-align: right;\n",
       "    }\n",
       "</style>\n",
       "<table border=\"1\" class=\"dataframe\">\n",
       "  <thead>\n",
       "    <tr style=\"text-align: right;\">\n",
       "      <th></th>\n",
       "      <th>cidade</th>\n",
       "      <th>poluente</th>\n",
       "      <th>unidade_de_nivel_de_poluicao</th>\n",
       "      <th>metrica</th>\n",
       "      <th>nome_estacao</th>\n",
       "      <th>ano</th>\n",
       "      <th>nível_de_poluicao</th>\n",
       "    </tr>\n",
       "  </thead>\n",
       "  <tbody>\n",
       "    <tr>\n",
       "      <th>1306</th>\n",
       "      <td>Porto (greater city)</td>\n",
       "      <td>O3</td>\n",
       "      <td>ug/m3</td>\n",
       "      <td>Média anual</td>\n",
       "      <td>Leça do Balio-Matosinhos</td>\n",
       "      <td>2013</td>\n",
       "      <td>25.095</td>\n",
       "    </tr>\n",
       "  </tbody>\n",
       "</table>\n",
       "</div>"
      ],
      "text/plain": [
       "                    cidade poluente unidade_de_nivel_de_poluicao      metrica  \\\n",
       "1306  Porto (greater city)       O3                        ug/m3  Média anual   \n",
       "\n",
       "                  nome_estacao   ano  nível_de_poluicao  \n",
       "1306  Leça do Balio-Matosinhos  2013             25.095  "
      ]
     },
     "execution_count": 27,
     "metadata": {},
     "output_type": "execute_result"
    }
   ],
   "source": [
    "df_cities[df_cities[\"nível_de_poluicao\"] == min_value]"
   ]
  },
  {
   "cell_type": "code",
   "execution_count": null,
   "id": "ecb8ec4e-8d1c-4563-aad3-bbcb74f5c577",
   "metadata": {},
   "outputs": [],
   "source": [
    "# df_cities[\"ano\"] = pd.to_datetime(df_cities[\"ano\"], format=\"%Y\")"
   ]
  },
  {
   "cell_type": "code",
   "execution_count": null,
   "id": "12c9844d-1d23-4802-af31-c903bf9a9685",
   "metadata": {},
   "outputs": [],
   "source": [
    "FONT: str = \"Rubik\""
   ]
  },
  {
   "cell_type": "code",
   "execution_count": null,
   "id": "671415ff-c85b-4992-bdb3-2c0a4013c053",
   "metadata": {},
   "outputs": [],
   "source": [
    "years = range(df_cities[\"ano\"].min(), df_cities[\"ano\"].max() + 1)\n",
    "\n",
    "df_bg = pd.DataFrame([{\"ano\": year} for year in years])\n",
    "\n",
    "df_bg.head()"
   ]
  },
  {
   "cell_type": "code",
   "execution_count": null,
   "id": "04963da1-d937-4345-a58d-fd94768ff0f1",
   "metadata": {},
   "outputs": [],
   "source": [
    "base = alt.Chart(df_cities)\n",
    "\n",
    "ticks = base.mark_tick(color=city_color, opacity=1).encode(\n",
    "    x=alt.X(\n",
    "        \"ano:O\",\n",
    "        axis=alt.Axis(\n",
    "            title=None,\n",
    "            labelExpr=\"substring(datum.label, 2, 4)\",\n",
    "            labelAngle=0,\n",
    "            labelAlign=\"center\",\n",
    "        ),\n",
    "        scale=alt.Scale(domain=list(range(df[\"ano\"].min(), df[\"ano\"].max() + 1))),\n",
    "    ),\n",
    "    y=alt.Y(\n",
    "        \"nível_de_poluicao:Q\",\n",
    "        scale=alt.Scale(domain=poluente_domain),\n",
    "        axis=alt.Axis(title=None, domain=False),\n",
    "    ),\n",
    ")\n",
    "\n",
    "max_line = base.mark_rule(color=\"red\").encode(y=alt.datum(max_value))\n",
    "min_line = base.mark_rule(color=\"red\").encode(y=alt.datum(min_value))\n",
    "\n",
    "bg = (\n",
    "    alt.Chart(df_bg)\n",
    "    .mark_rect()\n",
    "    .encode(\n",
    "        x=alt.X(\"ano:O\"),\n",
    "        color=alt.Color(\n",
    "            \"ano:N\", legend=None, scale=alt.Scale(range=[\"lightgray\", \"white\"])\n",
    "        ),\n",
    "    )\n",
    ")\n",
    "\n",
    "(bg + max_line + min_line + ticks).properties(title=cidade).configure_view(\n",
    "    strokeWidth=0\n",
    ").configure_axis(labelFont=FONT)"
   ]
  },
  {
   "cell_type": "markdown",
   "id": "2cef05aa-a31e-435b-af2e-1246901f3356",
   "metadata": {},
   "source": [
    "---"
   ]
  }
 ],
 "metadata": {
  "kernelspec": {
   "display_name": "Python 3 (ipykernel)",
   "language": "python",
   "name": "python3"
  },
  "language_info": {
   "codemirror_mode": {
    "name": "ipython",
    "version": 3
   },
   "file_extension": ".py",
   "mimetype": "text/x-python",
   "name": "python",
   "nbconvert_exporter": "python",
   "pygments_lexer": "ipython3",
   "version": "3.7.12"
  }
 },
 "nbformat": 4,
 "nbformat_minor": 5
}
